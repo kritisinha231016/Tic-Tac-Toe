{
 "cells": [
  {
   "cell_type": "code",
   "execution_count": 2,
   "id": "144d0929",
   "metadata": {},
   "outputs": [],
   "source": [
    "#Tic-Tac-Toe\n",
    "from IPython.display import clear_output\n",
    "#Display Board\n",
    "def display(n_lst):\n",
    "    clear_output()\n",
    "    print('Tic-Tac-Toe')\n",
    "    print('⟴----------⟴')\n",
    "    print('|',n_lst[7], '|',n_lst[8], '|',n_lst[9], '|')\n",
    "    print('*------------*')\n",
    "    print('|',n_lst[4], '|',n_lst[5], '|',n_lst[6], '|')\n",
    "    print('*------------*')\n",
    "    print('|',n_lst[1], '|',n_lst[2], '|',n_lst[3], '|')\n",
    "    print('⟴----------⟴')\n",
    " "
   ]
  },
  {
   "cell_type": "code",
   "execution_count": 3,
   "id": "8e2ce371",
   "metadata": {},
   "outputs": [
    {
     "name": "stdout",
     "output_type": "stream",
     "text": [
      "Tic-Tac-Toe\n",
      "⟴----------⟴\n",
      "| 7 | 8 | 9 |\n",
      "*------------*\n",
      "| 4 | 5 | 6 |\n",
      "*------------*\n",
      "| 1 | 2 | 3 |\n",
      "⟴----------⟴\n"
     ]
    }
   ],
   "source": [
    "#Check board for dummy input\n",
    "n_lst=['Dummy',1,2,3,4,5,6,7,8,9]\n",
    "display(n_lst)"
   ]
  },
  {
   "cell_type": "code",
   "execution_count": 4,
   "id": "8fd85e0a",
   "metadata": {},
   "outputs": [
    {
     "name": "stdout",
     "output_type": "stream",
     "text": [
      "Tic-Tac-Toe\n",
      "⟴----------⟴\n",
      "|   |   |   |\n",
      "*------------*\n",
      "|   |   |   |\n",
      "*------------*\n",
      "|   |   |   |\n",
      "⟴----------⟴\n"
     ]
    }
   ],
   "source": [
    "n_lst=[' ']*10\n",
    "display(n_lst)"
   ]
  },
  {
   "cell_type": "code",
   "execution_count": 5,
   "id": "c3f5e4bf",
   "metadata": {},
   "outputs": [
    {
     "name": "stdout",
     "output_type": "stream",
     "text": [
      "Tic-Tac-Toe\n",
      "⟴----------⟴\n",
      "| X | X | X |\n",
      "*------------*\n",
      "| X | X | X |\n",
      "*------------*\n",
      "| X | X | X |\n",
      "⟴----------⟴\n"
     ]
    }
   ],
   "source": [
    "n_lst=[' ']*10\n",
    "for i in range (9):\n",
    "    temp=int(input('Enter the input: '))\n",
    "    n_lst[temp]='X'\n",
    "    display(n_lst)"
   ]
  },
  {
   "cell_type": "code",
   "execution_count": 6,
   "id": "9b33172d",
   "metadata": {},
   "outputs": [
    {
     "name": "stdout",
     "output_type": "stream",
     "text": [
      "Tic-Tac-Toe\n",
      "⟴----------⟴\n",
      "| O | X | O |\n",
      "*------------*\n",
      "| O | X | X |\n",
      "*------------*\n",
      "| X | O | X |\n",
      "⟴----------⟴\n"
     ]
    }
   ],
   "source": [
    "n_lst=[' ']*10\n",
    "for i in range(9):\n",
    "    if(i%2==0):\n",
    "        temp=int(input('Enter your turn: '))\n",
    "        n_lst[temp]='X'\n",
    "        display(n_lst)\n",
    "    else:\n",
    "        temp=int(input('Enter my turn: '))\n",
    "        n_lst[temp]='O'\n",
    "        display(n_lst)"
   ]
  },
  {
   "cell_type": "code",
   "execution_count": 9,
   "id": "7f77ff1b",
   "metadata": {},
   "outputs": [],
   "source": [
    "#Check winning condition\n",
    "#Winning cases- 1,2,3 - 4,5,6 - 7,8,9 - 1,4,7 - 2,5,8 - 3,6,9 - 1,5,9 - 3,5,7\n",
    "#Check all the eight cases\n",
    "def check_winning_condition(mark,n_lst):\n",
    "    if(((n_lst[1]==mark)and(n_lst[2]==mark)and(n_lst[3]==mark))or\n",
    "    ((n_lst[4]==mark)and(n_lst[5]==mark)and(n_lst[6]==mark))or\n",
    "    ((n_lst[7]==mark)and(n_lst[8]==mark)and(n_lst[9]==mark))or\n",
    "    ((n_lst[1]==mark)and(n_lst[4]==mark)and(n_lst[7]==mark))or\n",
    "    ((n_lst[2]==mark)and(n_lst[5]==mark)and(n_lst[8]==mark))or\n",
    "    ((n_lst[3]==mark)and(n_lst[6]==mark)and(n_lst[9]==mark))or\n",
    "    ((n_lst[1]==mark)and(n_lst[5]==mark)and(n_lst[9]==mark))or\n",
    "    ((n_lst[3]==mark)and(n_lst[5]==mark)and(n_lst[7]==mark))):\n",
    "        return 1\n",
    "    else:\n",
    "        return 0"
   ]
  },
  {
   "cell_type": "code",
   "execution_count": 10,
   "id": "d78df324",
   "metadata": {},
   "outputs": [
    {
     "name": "stdout",
     "output_type": "stream",
     "text": [
      "Tic-Tac-Toe\n",
      "⟴----------⟴\n",
      "| O | X | O |\n",
      "*------------*\n",
      "| O | X | X |\n",
      "*------------*\n",
      "| X | O | X |\n",
      "⟴----------⟴\n",
      "There is a tie.\n"
     ]
    }
   ],
   "source": [
    "#Play and check for Player1 and Player2\n",
    "#Winning and Match Tie status is displayed at the end\n",
    "n_lst=[' ']*10\n",
    "for i in range(9):\n",
    "    temp=int(input('Enter your turn: '))\n",
    "    if(i%2==0):\n",
    "        n_lst[temp]='X'\n",
    "        mark='X'\n",
    "        temp1=check_winning_condition(mark,n_lst)\n",
    "    else:\n",
    "        n_lst[temp]='O'\n",
    "        mark='O'\n",
    "        temp1=check_winning_condition(mark,n_lst)\n",
    "    display(n_lst)\n",
    "    if(temp1==1):\n",
    "        break\n",
    "if(temp1==1):\n",
    "    if(i%2==0):\n",
    "        print('Hurray!Player1 won.')\n",
    "    else:\n",
    "        print('Hurray!Player2 won.')\n",
    "else:\n",
    "        print('There is a tie.')\n"
   ]
  },
  {
   "cell_type": "code",
   "execution_count": 12,
   "id": "8056d6d8",
   "metadata": {},
   "outputs": [
    {
     "name": "stdout",
     "output_type": "stream",
     "text": [
      "Tic-Tac-Toe\n",
      "⟴----------⟴\n",
      "| X | X | X |\n",
      "*------------*\n",
      "|   | X | O |\n",
      "*------------*\n",
      "| O |   | O |\n",
      "⟴----------⟴\n",
      "Hurray!Player1 won.\n",
      "Do you want to play again? -Enter Yes or NO:- No\n"
     ]
    }
   ],
   "source": [
    "while(True):\n",
    "    n_lst=[' ']*10\n",
    "    for i in range(9):\n",
    "        temp=int(input('Enter your turn: '))\n",
    "        if(i%2==0):\n",
    "            n_lst[temp]='X'\n",
    "            mark='X'\n",
    "            temp1=check_winning_condition(mark,n_lst)\n",
    "        else:\n",
    "            n_lst[temp]='O'\n",
    "            mark='O'\n",
    "            temp1=check_winning_condition(mark,n_lst)\n",
    "        display(n_lst)\n",
    "        if(temp1==1):\n",
    "            break\n",
    "    if(temp1==1):\n",
    "        if(i%2==0):\n",
    "            print('Hurray!Player1 won.')\n",
    "        else:\n",
    "            print('Hurray!Player2 won.')\n",
    "    else:\n",
    "            print('There is a tie.')\n",
    "    replay_status=input('Do you want to play again? -Enter Yes or NO:- ')\n",
    "    if(replay_status=='No'):\n",
    "        break\n"
   ]
  },
  {
   "cell_type": "code",
   "execution_count": 24,
   "id": "43e487bf",
   "metadata": {},
   "outputs": [
    {
     "name": "stdout",
     "output_type": "stream",
     "text": [
      "Tic-Tac-Toe\n",
      "⟴----------⟴\n",
      "| X | O | X |\n",
      "*------------*\n",
      "| O | X |   |\n",
      "*------------*\n",
      "| X |   | O |\n",
      "⟴----------⟴\n",
      "Hurray!Player1 won.\n",
      "Do you want to play again? -Enter Yes or NO:- No\n"
     ]
    }
   ],
   "source": [
    "while(True):\n",
    "    n_lst=[' ']*10\n",
    "    display(n_lst)\n",
    "    player1_mark=input(\"Player1 , please enter your choice!- 'X' or 'O': \")\n",
    "    if(player1_mark.upper()=='X'):\n",
    "        player1_mark='X'\n",
    "        player2_mark='O'\n",
    "    else:\n",
    "        player1_mark='O'\n",
    "        player2_mark='X'\n",
    "        for i in range(9):\n",
    "            temp=int(input('Enter your turn: '))\n",
    "            if(i%2==0):\n",
    "                n_lst[temp]='X'\n",
    "                mark='X'\n",
    "                temp1=check_winning_condition(mark,n_lst)\n",
    "            else:\n",
    "                n_lst[temp]='O'\n",
    "                mark='O'\n",
    "                temp1=check_winning_condition(mark,n_lst)\n",
    "            display(n_lst)\n",
    "            if(temp1==1):\n",
    "                break\n",
    "        if(temp1==1):\n",
    "            if(i%2==0):\n",
    "                print('Hurray!Player1 won.')\n",
    "            else:\n",
    "                print('Hurray!Player2 won.')\n",
    "        else:\n",
    "                print('There is a tie.')\n",
    "        replay_status=input('Do you want to play again? -Enter Yes or NO:- ')\n",
    "        if(replay_status=='No'):\n",
    "            break"
   ]
  },
  {
   "cell_type": "code",
   "execution_count": null,
   "id": "414e8a16",
   "metadata": {},
   "outputs": [],
   "source": []
  },
  {
   "cell_type": "code",
   "execution_count": null,
   "id": "e938a9fd",
   "metadata": {},
   "outputs": [],
   "source": []
  },
  {
   "cell_type": "code",
   "execution_count": null,
   "id": "ca7d7464",
   "metadata": {},
   "outputs": [],
   "source": []
  }
 ],
 "metadata": {
  "kernelspec": {
   "display_name": "Python 3 (ipykernel)",
   "language": "python",
   "name": "python3"
  },
  "language_info": {
   "codemirror_mode": {
    "name": "ipython",
    "version": 3
   },
   "file_extension": ".py",
   "mimetype": "text/x-python",
   "name": "python",
   "nbconvert_exporter": "python",
   "pygments_lexer": "ipython3",
   "version": "3.9.7"
  }
 },
 "nbformat": 4,
 "nbformat_minor": 5
}
